{
 "cells": [
  {
   "cell_type": "code",
   "execution_count": 1,
   "metadata": {},
   "outputs": [],
   "source": [
    "#O problema pode ser modelado da seguinte maneira:\n",
    "#buscamos maximizar a função objetivo quantidade de carga f(x,y)=american_cargo*x+british_cargo*y,em que x é o número de aviões\n",
    "#americanos e y é o número de aviões britânicos, sujeitas às restrições:\n",
    "#1) 0 <= r1(x,y) <= max_planes, onde r1(x,y)=x+y;\n",
    "#2) 0 <= r2(x,y) <= max_pers, onde r2(x,y)=american_pers*x+british_pers*y;\n",
    "#3) 0 <= r3(x,y) <= budget, onde r3(x,y)=american_cost*x+british_cost*y.\n",
    "\n",
    "#Este é um problema de programação linear. A solução pelo método Simplex não é possível, pois este fica iterando em um loop\n",
    "#indefinidamente, devido à aparição de uma constante positiva na linha da função objetivo na tabela do método.\n",
    "\n",
    "#Portanto resolveremos pelo seguinte método: o teorema fundamental da programação linear garante que os pontos de máximo\n",
    "#da função somente podem ser atingidos na borda da região da restrição.\n",
    "#A região restrição é dada pela intersecção, no quadrante superior direito, das áreas abaixo (e incluindo) das retas\n",
    "#r1: y = max_planes - x\n",
    "#r2: y = max_pers/british_pers - (american_pers/british_pers)*x\n",
    "#r3: y = budget/british_cost -(american_cost/british_cost)*x\n",
    "\n",
    "#Como nenhuma destas retas coincide com as retas das curvas de níveis - que são da forma, para um valor k,\n",
    "#y = k/british_cargo -(american_cargo/british_cargo)*x -,\n",
    "#segue que o ponto de máximo deve estar em um dos vértices da região.\n",
    "\n",
    "#Para achá-los, basta tomar os 10 pontos de todas as intersecções possíveis entre r1, r2, r3, Ox, Oy, em que Ox, Oy são\n",
    "#o eixo das abscissas e o eixo das coordenadas, respectivamente.\n",
    "\n",
    "#Em seguida, consideramos dentre estes os pontos possíveis (feasible points) que estão na região restrição restrição; basta,\n",
    "#então, calcular o valor da função objetivo nestes pontos e determinaremos o ponto de máximo da função.\n",
    "\n",
    "#Este método é computacionalmente viável, pois este é um problema em dimensão n=2 com apenas 3 restrições.\n"
   ]
  },
  {
   "cell_type": "code",
   "execution_count": 2,
   "metadata": {},
   "outputs": [],
   "source": [
    "import numpy as np"
   ]
  },
  {
   "cell_type": "code",
   "execution_count": 3,
   "metadata": {},
   "outputs": [],
   "source": [
    "#Função objetivo\n",
    "def cargo(X, american_cargo, british_cargo):\n",
    "    return american_cargo*X[0]+british_cargo*X[1]"
   ]
  },
  {
   "cell_type": "code",
   "execution_count": 4,
   "metadata": {},
   "outputs": [],
   "source": [
    "def plane_model(budget, max_planes=44, max_pers=512,\n",
    "                  american_cargo=30000.,american_pers=16, american_cost=9000.,\n",
    "                  british_cargo=20000., british_pers=32, british_cost=5000.):\n",
    "    #Acharemos as intersecções das retas da seguinte maneira: se r e s são as retas definidas por\n",
    "    #a1*x + a2*y = b1\n",
    "    #a3*x + a4*y = b2,\n",
    "    #resolvemos o sistema linear AX = B, em que X é o vetor coluna (x,y), A é a matriz\n",
    "    #(a1 a2)\n",
    "    #(a3 a4)\n",
    "    #e B é o vetor coluna (b1,b2).\n",
    "    \n",
    "    #O código a seguir prepara uma interação compacta para resolver os sistemas lineares considerados.\n",
    "    r1_A = np.array([1,1])\n",
    "    r1_B = max_planes  \n",
    "    r2_A = np.array([american_pers, british_pers])\n",
    "    r2_B = max_pers\n",
    "    r3_A = np.array([american_cost, british_cost])\n",
    "    r3_B = budget\n",
    "\n",
    "    abs_A = np.array([0,1])\n",
    "    abs_B = 0\n",
    "    ords_A = np.array([1,0])\n",
    "    ords_B = 0\n",
    "\n",
    "    vec_A = [r1_A, r2_A, r3_A, abs_A, ords_A]\n",
    "    pt_B = [r1_B, r2_B, r3_B, abs_B, ords_B]\n",
    "\n",
    "    solutions = []\n",
    "    for i in range(len(vec_A)):\n",
    "        for j in range(i+1, len(pt_B)):\n",
    "            A = np.vstack((vec_A[i], vec_A[j]))\n",
    "            B = np.vstack((pt_B[i], pt_B[j]))\n",
    "            solutions.append(np.linalg.solve(A,B))        \n",
    "    feasible_solutions = [X for X in solutions if X[0]>=0 and X[1]>=0 \n",
    "                      and np.dot(r1_A, X)<=r1_B and np.dot(r2_A,X)<=r2_B and np.dot(r3_A,X)<=r3_B]\n",
    "    \n",
    "    return np.reshape(feasible_solutions[np.argmax([cargo(X, american_cargo, british_cargo) \n",
    "                                                    for X in feasible_solutions])], 2).astype('int')\n",
    "#A última linha seria mais clara se fosse dividida em 3 ou 4 linhas, mas assim temos um pequeno ganho computacional e \n",
    "#de uso de memória.\n",
    "#Retornamos o vetor X transformado em um vetor linha e atribuimos o tipo 'int' ao vetor (x,y),\n",
    "#o que retorna o maior inteiro menor ou igual ao número considerado, ou seja, arredonda sempre para baixo.\n",
    "\n",
    "#Observação: Essa pode nem sempre ser a melhor escolha de arredondamento. Pode-se facilmente escrever um pequeno algoritmo \n",
    "#que analisa os inteiros próximos a (x,y) e retorna, dentre esses, o par de inteiros que está na região restrição e é \n",
    "#tal que seu valor da função objetivo seja o maior.\n",
    "#Aqui isso não é feito apenas para maior clareza no código."
   ]
  },
  {
   "cell_type": "code",
   "execution_count": 5,
   "metadata": {},
   "outputs": [],
   "source": [
    "#Apenas uma função que printa as informações do modelo. Poderíamos fazer uma -ou diversas- função que retorna as informações\n",
    "#do modelo, para utilizar informações mais específicas dentro do sistema.\n",
    "def plane_info(american_planes, british_planes, budget, max_planes=44, max_pers=512,\n",
    "                  american_cargo=30000.,american_pers=16, american_cost=9000.,\n",
    "                  british_cargo=20000., british_pers=32, british_cost=5000.):\n",
    "    print('Informações')\n",
    "    print('Cargo:', cargo([american_planes, british_planes], american_cargo, british_cargo))\n",
    "    print('Budget limite:', budget)\n",
    "    print('Gasto: {} - Gasto em aviões americanos: {} - Gasto em aviões britânicos: {}'.format(\n",
    "        american_cost*american_planes+british_cost*british_planes,\n",
    "        american_cost*american_planes,\n",
    "        british_cost*british_planes)\n",
    "         )\n",
    "    print('Total de aviões: {} - Aviões americanos: {} - Aviões britânicos: {}'.format(american_planes+british_planes,\n",
    "                                                                                       american_planes, \n",
    "                                                                                       british_planes)\n",
    "         )\n",
    "    print('Pessoal: {} - Pessoal americano: {} - Pessoal britânico: {}'.format(\n",
    "        american_pers*american_planes+british_pers*british_planes,\n",
    "        american_pers*american_planes,\n",
    "        british_pers*british_planes)\n",
    "         )  "
   ]
  },
  {
   "cell_type": "code",
   "execution_count": 6,
   "metadata": {},
   "outputs": [
    {
     "name": "stdout",
     "output_type": "stream",
     "text": [
      "Informações\n",
      "Cargo: 960000.0\n",
      "Budget limite: 300000\n",
      "Gasto: 288000.0 - Gasto em aviões americanos: 288000.0 - Gasto em aviões britânicos: 0.0\n",
      "Total de aviões: 32 - Aviões americanos: 32 - Aviões britânicos: 0\n",
      "Pessoal: 512 - Pessoal americano: 512 - Pessoal britânico: 0\n"
     ]
    }
   ],
   "source": [
    "#Resolvendo o problema para budget=300000\n",
    "x,y = plane_model(300000)\n",
    "plane_info(x,y,300000)"
   ]
  },
  {
   "cell_type": "code",
   "execution_count": 7,
   "metadata": {},
   "outputs": [],
   "source": [
    "#Uma solução por força bruta, para demonstrar que o método anterior é correto\n",
    "#Consideraremos todos os pares ordenados de inteiros (x,y), em que x,y <= max_planes \n",
    "#(pois a primeira restrição impõe-lo imediatamente)\n",
    "\n",
    "def plane_model_brute(budget, max_planes=44, max_pers=512,\n",
    "                  american_cargo=30000.,american_pers=16, american_cost=9000.,\n",
    "                  british_cargo=20000., british_pers=32, british_cost=5000.):\n",
    "    feasible_solutions = []\n",
    "    for x in range(max_planes+1):\n",
    "        for y in range(max_planes+1):\n",
    "            if x+y<= max_planes and american_pers*x+british_pers*y<=max_pers and american_cost*x+british_cost*y<=budget: \n",
    "                feasible_solutions.append((x,y))\n",
    "    idx = np.argmax([cargo(X, american_cargo, british_cargo) for X in feasible_solutions])\n",
    "    x,y = feasible_solutions[idx]   \n",
    "    \n",
    "    return int(x),int(y)"
   ]
  },
  {
   "cell_type": "code",
   "execution_count": 8,
   "metadata": {},
   "outputs": [
    {
     "name": "stdout",
     "output_type": "stream",
     "text": [
      "Informações\n",
      "Cargo: 960000.0\n",
      "Budget limite: 300000\n",
      "Gasto: 288000.0 - Gasto em aviões americanos: 288000.0 - Gasto em aviões britânicos: 0.0\n",
      "Total de aviões: 32 - Aviões americanos: 32 - Aviões britânicos: 0\n",
      "Pessoal: 512 - Pessoal americano: 512 - Pessoal britânico: 0\n"
     ]
    }
   ],
   "source": [
    "#Resolvendo o problema por força bruta para budget=300000\n",
    "x,y = plane_model_brute(300000)\n",
    "plane_info(x,y,300000)"
   ]
  }
 ],
 "metadata": {
  "kernelspec": {
   "display_name": "Python 3",
   "language": "python",
   "name": "python3"
  },
  "language_info": {
   "codemirror_mode": {
    "name": "ipython",
    "version": 3
   },
   "file_extension": ".py",
   "mimetype": "text/x-python",
   "name": "python",
   "nbconvert_exporter": "python",
   "pygments_lexer": "ipython3",
   "version": "3.7.6"
  }
 },
 "nbformat": 4,
 "nbformat_minor": 4
}
